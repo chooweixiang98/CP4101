{
 "cells": [
  {
   "cell_type": "code",
   "execution_count": 1,
   "metadata": {},
   "outputs": [
    {
     "name": "stderr",
     "output_type": "stream",
     "text": [
      "/Users/weixiangchoo/Desktop/NUS/AY23-24_Sem_1/CP4101/codebase/lib/python3.11/site-packages/tqdm/auto.py:21: TqdmWarning: IProgress not found. Please update jupyter and ipywidgets. See https://ipywidgets.readthedocs.io/en/stable/user_install.html\n",
      "  from .autonotebook import tqdm as notebook_tqdm\n"
     ]
    }
   ],
   "source": [
    "from QnGenPipeline import pipeline\n"
   ]
  },
  {
   "cell_type": "code",
   "execution_count": 2,
   "metadata": {},
   "outputs": [],
   "source": [
    "text = \"Python is an interpreted, high-level, general-purpose programming language. Created by Guido van Rossum \\\n",
    "and first released in 1991, Python's design philosophy emphasizes code \\\n",
    "readability with its notable use of significant whitespace.\"\n",
    "\n",
    "text2 = \"Gravity (from Latin gravitas, meaning 'weight'), or gravitation, is a natural phenomenon by which all \\\n",
    "things with mass or energy—including planets, stars, galaxies, and even light—are brought toward (or gravitate toward) \\\n",
    "one another. On Earth, gravity gives weight to physical objects, and the Moon's gravity causes the ocean tides. \\\n",
    "The gravitational attraction of the original gaseous matter present in the Universe caused it to begin coalescing \\\n",
    "and forming stars and caused the stars to group together into galaxies, so gravity is responsible for many of \\\n",
    "the large-scale structures in the Universe. Gravity has an infinite range, although its effects become increasingly \\\n",
    "weaker as objects get further away\"\n",
    "\n",
    "text3 = \"42 is the answer to life, universe and everything.\"\n",
    "\n",
    "text4 = \"Forrest Gump is a 1994 American comedy-drama film directed by Robert Zemeckis and written by Eric Roth. \\\n",
    "It is based on the 1986 novel of the same name by Winston Groom and stars Tom Hanks, Robin Wright, Gary Sinise, \\\n",
    "Mykelti Williamson and Sally Field. The story depicts several decades in the life of Forrest Gump (Hanks), \\\n",
    "a slow-witted but kind-hearted man from Alabama who witnesses and unwittingly influences several defining \\\n",
    "historical events in the 20th century United States. The film differs substantially from the novel.\""
   ]
  },
  {
   "cell_type": "code",
   "execution_count": 3,
   "metadata": {},
   "outputs": [
    {
     "name": "stderr",
     "output_type": "stream",
     "text": [
      "You are using the default legacy behaviour of the <class 'transformers.models.t5.tokenization_t5.T5Tokenizer'>. This is expected, and simply means that the `legacy` (previous) behavior will be used so nothing changes for you. If you want to use the new behaviour, set `legacy=False`. This should only be set if you understand what it means, and thoroughly read the reason why this was added as explained in https://github.com/huggingface/transformers/pull/24565\n",
      "Special tokens have been added in the vocabulary, make sure the associated word embeddings are fine-tuned or trained.\n",
      "Special tokens have been added in the vocabulary, make sure the associated word embeddings are fine-tuned or trained.\n"
     ]
    }
   ],
   "source": [
    "nlp = pipeline(\"question-generation\")"
   ]
  },
  {
   "cell_type": "code",
   "execution_count": 4,
   "metadata": {},
   "outputs": [
    {
     "name": "stderr",
     "output_type": "stream",
     "text": [
      "/Users/weixiangchoo/Desktop/NUS/AY23-24_Sem_1/CP4101/codebase/lib/python3.11/site-packages/transformers/models/t5/tokenization_t5.py:303: UserWarning: This sequence already has </s>. In future versions this behavior may lead to duplicated eos tokens being added.\n",
      "  warnings.warn(\n"
     ]
    },
    {
     "name": "stdout",
     "output_type": "stream",
     "text": [
      "['42 is the answer to life, universe and everything.']\n",
      "['42', '']\n"
     ]
    },
    {
     "data": {
      "text/plain": [
       "[{'answer': '42',\n",
       "  'question': 'What is the answer to life, universe and everything?'}]"
      ]
     },
     "execution_count": 4,
     "metadata": {},
     "output_type": "execute_result"
    }
   ],
   "source": [
    "nlp(text3)"
   ]
  },
  {
   "cell_type": "code",
   "execution_count": 5,
   "metadata": {},
   "outputs": [
    {
     "name": "stdout",
     "output_type": "stream",
     "text": [
      "['Forrest Gump is a 1994 American comedy-drama film directed by Robert Zemeckis and written by Eric Roth.', 'It is based on the 1986 novel of the same name by Winston Groom and stars Tom Hanks, Robin Wright, Gary Sinise, Mykelti Williamson and Sally Field.', 'The story depicts several decades in the life of Forrest Gump (Hanks), a slow-witted but kind-hearted man from Alabama who witnesses and unwittingly influences several defining historical events in the 20th century United States.', 'The film differs substantially from the novel.']\n",
      "['Robert Zemeckis', 'Eric Roth', '', '1986', '', 'Alabama', '', 'differs substantially from the novel', '']\n"
     ]
    },
    {
     "data": {
      "text/plain": [
       "[{'answer': 'Robert Zemeckis', 'question': 'Who directed Forrest Gump?'},\n",
       " {'answer': 'Eric Roth', 'question': 'Who wrote Forrest Gump?'},\n",
       " {'answer': '1986', 'question': 'In what year was Forrest Gump based?'},\n",
       " {'answer': 'Alabama', 'question': 'Where is Forrest Gump from?'},\n",
       " {'answer': 'differs substantially from the novel',\n",
       "  'question': 'What does Forrest Gump differ substantially from?'}]"
      ]
     },
     "execution_count": 5,
     "metadata": {},
     "output_type": "execute_result"
    }
   ],
   "source": [
    "nlp(text4)"
   ]
  },
  {
   "cell_type": "code",
   "execution_count": 6,
   "metadata": {},
   "outputs": [],
   "source": [
    "python_text = \"Python is a high-level, interpreted programming language famous for its zen-like code. It's commonly used to build server-side applications, like web apps with the Django framework. Many students choose Python to start learning to code because of its emphasis on readability. Python is a multi-paradigm language. We can apply functional programming patterns with things like anonymous functions using Lambda. It also has a huge ecosystem of third-party libraries, such as deep learning frameworks like TensorFlow, and wrappers for many high-performance low-level packages like Open Computer Vision.\""
   ]
  },
  {
   "cell_type": "code",
   "execution_count": 7,
   "metadata": {},
   "outputs": [
    {
     "name": "stdout",
     "output_type": "stream",
     "text": [
      "['Python is a high-level, interpreted programming language famous for its zen-like code.', \"It's commonly used to build server-side applications, like web apps with the Django framework.\", 'Many students choose Python to start learning to code because of its emphasis on readability.', 'Python is a multi-paradigm language.', 'We can apply functional programming patterns with things like anonymous functions using Lambda.', 'It also has a huge ecosystem of third-party libraries, such as deep learning frameworks like TensorFlow, and wrappers for many high-performance low-level packages like Open Computer Vision.']\n",
      "['Python', '', 'Django', '', 'readability', '', 'multi-paradigm', '', 'Lambda', '', 'TensorFlow', '']\n"
     ]
    },
    {
     "data": {
      "text/plain": [
       "[{'answer': 'Python',\n",
       "  'question': 'What is a high-level, interpreted programming language famous for its zen-like code?'},\n",
       " {'answer': 'Django',\n",
       "  'question': 'What framework is Python commonly used to build server-side applications?'},\n",
       " {'answer': 'readability',\n",
       "  'question': 'Why do students choose Python to start learning to code?'},\n",
       " {'answer': 'multi-paradigm', 'question': 'What type of language is Python?'},\n",
       " {'answer': 'Lambda', 'question': 'What is Python a multi-paradigm language?'},\n",
       " {'answer': 'TensorFlow',\n",
       "  'question': 'What is a deep learning framework that has a huge ecosystem of third-party libraries?'}]"
      ]
     },
     "execution_count": 7,
     "metadata": {},
     "output_type": "execute_result"
    }
   ],
   "source": [
    "nlp(python_text)"
   ]
  }
 ],
 "metadata": {
  "kernelspec": {
   "display_name": "codebase",
   "language": "python",
   "name": "python3"
  },
  "language_info": {
   "codemirror_mode": {
    "name": "ipython",
    "version": 3
   },
   "file_extension": ".py",
   "mimetype": "text/x-python",
   "name": "python",
   "nbconvert_exporter": "python",
   "pygments_lexer": "ipython3",
   "version": "3.11.4"
  }
 },
 "nbformat": 4,
 "nbformat_minor": 2
}
