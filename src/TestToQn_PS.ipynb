{
 "cells": [
  {
   "cell_type": "code",
   "execution_count": 1,
   "metadata": {},
   "outputs": [
    {
     "name": "stderr",
     "output_type": "stream",
     "text": [
      "/Users/weixiangchoo/Desktop/NUS/AY23-24_Sem_1/CP4101/codebase/lib/python3.11/site-packages/tqdm/auto.py:21: TqdmWarning: IProgress not found. Please update jupyter and ipywidgets. See https://ipywidgets.readthedocs.io/en/stable/user_install.html\n",
      "  from .autonotebook import tqdm as notebook_tqdm\n"
     ]
    }
   ],
   "source": [
    "from QnGenPipeline import pipeline\n"
   ]
  },
  {
   "cell_type": "code",
   "execution_count": 2,
   "metadata": {},
   "outputs": [],
   "source": [
    "text = \"Python is an interpreted, high-level, general-purpose programming language. Created by Guido van Rossum \\\n",
    "and first released in 1991, Python's design philosophy emphasizes code \\\n",
    "readability with its notable use of significant whitespace.\"\n",
    "\n",
    "text2 = \"Gravity (from Latin gravitas, meaning 'weight'), or gravitation, is a natural phenomenon by which all \\\n",
    "things with mass or energy—including planets, stars, galaxies, and even light—are brought toward (or gravitate toward) \\\n",
    "one another. On Earth, gravity gives weight to physical objects, and the Moon's gravity causes the ocean tides. \\\n",
    "The gravitational attraction of the original gaseous matter present in the Universe caused it to begin coalescing \\\n",
    "and forming stars and caused the stars to group together into galaxies, so gravity is responsible for many of \\\n",
    "the large-scale structures in the Universe. Gravity has an infinite range, although its effects become increasingly \\\n",
    "weaker as objects get further away\"\n",
    "\n",
    "text3 = \"42 is the answer to life, universe and everything.\"\n",
    "\n",
    "text4 = \"Forrest Gump is a 1994 American comedy-drama film directed by Robert Zemeckis and written by Eric Roth. \\\n",
    "It is based on the 1986 novel of the same name by Winston Groom and stars Tom Hanks, Robin Wright, Gary Sinise, \\\n",
    "Mykelti Williamson and Sally Field. The story depicts several decades in the life of Forrest Gump (Hanks), \\\n",
    "a slow-witted but kind-hearted man from Alabama who witnesses and unwittingly influences several defining \\\n",
    "historical events in the 20th century United States. The film differs substantially from the novel.\""
   ]
  },
  {
   "cell_type": "code",
   "execution_count": 3,
   "metadata": {},
   "outputs": [
    {
     "name": "stderr",
     "output_type": "stream",
     "text": [
      "You are using the default legacy behaviour of the <class 'transformers.models.t5.tokenization_t5.T5Tokenizer'>. This is expected, and simply means that the `legacy` (previous) behavior will be used so nothing changes for you. If you want to use the new behaviour, set `legacy=False`. This should only be set if you understand what it means, and thoroughly read the reason why this was added as explained in https://github.com/huggingface/transformers/pull/24565\n",
      "Special tokens have been added in the vocabulary, make sure the associated word embeddings are fine-tuned or trained.\n",
      "Special tokens have been added in the vocabulary, make sure the associated word embeddings are fine-tuned or trained.\n"
     ]
    }
   ],
   "source": [
    "nlp = pipeline(\"question-generation\")"
   ]
  },
  {
   "cell_type": "code",
   "execution_count": 4,
   "metadata": {},
   "outputs": [
    {
     "name": "stdout",
     "output_type": "stream",
     "text": [
      "['42 is the answer to life, universe and everything.']\n",
      "['<pad>42 ']\n"
     ]
    },
    {
     "name": "stderr",
     "output_type": "stream",
     "text": [
      "/Users/weixiangchoo/Desktop/NUS/AY23-24_Sem_1/CP4101/codebase/lib/python3.11/site-packages/transformers/models/t5/tokenization_t5.py:303: UserWarning: This sequence already has </s>. In future versions this behavior may lead to duplicated eos tokens being added.\n",
      "  warnings.warn(\n"
     ]
    },
    {
     "ename": "ValueError",
     "evalue": "substring not found",
     "output_type": "error",
     "traceback": [
      "\u001b[0;31m---------------------------------------------------------------------------\u001b[0m",
      "\u001b[0;31mValueError\u001b[0m                                Traceback (most recent call last)",
      "\u001b[1;32m/Users/weixiangchoo/Desktop/NUS/AY23-24_Sem_1/CP4101/codebase/src/TestToQn_PS.ipynb Cell 4\u001b[0m line \u001b[0;36m1\n\u001b[0;32m----> <a href='vscode-notebook-cell:/Users/weixiangchoo/Desktop/NUS/AY23-24_Sem_1/CP4101/codebase/src/TestToQn_PS.ipynb#X10sZmlsZQ%3D%3D?line=0'>1</a>\u001b[0m nlp(text3)\n",
      "File \u001b[0;32m~/Desktop/NUS/AY23-24_Sem_1/CP4101/codebase/src/QnGenPipeline.py:64\u001b[0m, in \u001b[0;36mQGPipeline.__call__\u001b[0;34m(self, inputs)\u001b[0m\n\u001b[1;32m     62\u001b[0m     qg_examples \u001b[39m=\u001b[39m \u001b[39mself\u001b[39m\u001b[39m.\u001b[39m_prepare_inputs_for_qg_from_answers_prepend(inputs, answers)\n\u001b[1;32m     63\u001b[0m \u001b[39melse\u001b[39;00m:\n\u001b[0;32m---> 64\u001b[0m     qg_examples \u001b[39m=\u001b[39m \u001b[39mself\u001b[39;49m\u001b[39m.\u001b[39;49m_prepare_inputs_for_qg_from_answers_hl(sents, answers)\n\u001b[1;32m     66\u001b[0m qg_inputs \u001b[39m=\u001b[39m [example[\u001b[39m'\u001b[39m\u001b[39msource_text\u001b[39m\u001b[39m'\u001b[39m] \u001b[39mfor\u001b[39;00m example \u001b[39min\u001b[39;00m qg_examples]\n\u001b[1;32m     67\u001b[0m questions \u001b[39m=\u001b[39m \u001b[39mself\u001b[39m\u001b[39m.\u001b[39m_generate_questions(qg_inputs)\n",
      "File \u001b[0;32m~/Desktop/NUS/AY23-24_Sem_1/CP4101/codebase/src/QnGenPipeline.py:146\u001b[0m, in \u001b[0;36mQGPipeline._prepare_inputs_for_qg_from_answers_hl\u001b[0;34m(self, sents, answers)\u001b[0m\n\u001b[1;32m    142\u001b[0m sents_copy \u001b[39m=\u001b[39m sents[:]\n\u001b[1;32m    144\u001b[0m answer_text \u001b[39m=\u001b[39m answer_text\u001b[39m.\u001b[39mstrip()\n\u001b[0;32m--> 146\u001b[0m ans_start_idx \u001b[39m=\u001b[39m sent\u001b[39m.\u001b[39;49mindex(answer_text)\n\u001b[1;32m    148\u001b[0m sent \u001b[39m=\u001b[39m \u001b[39mf\u001b[39m\u001b[39m\"\u001b[39m\u001b[39m{\u001b[39;00msent[:ans_start_idx]\u001b[39m}\u001b[39;00m\u001b[39m <hl> \u001b[39m\u001b[39m{\u001b[39;00manswer_text\u001b[39m}\u001b[39;00m\u001b[39m <hl> \u001b[39m\u001b[39m{\u001b[39;00msent[ans_start_idx\u001b[39m \u001b[39m\u001b[39m+\u001b[39m\u001b[39m \u001b[39m\u001b[39mlen\u001b[39m(answer_text):\u001b[39m \u001b[39m]\u001b[39m}\u001b[39;00m\u001b[39m\"\u001b[39m\n\u001b[1;32m    149\u001b[0m sents_copy[i] \u001b[39m=\u001b[39m sent\n",
      "\u001b[0;31mValueError\u001b[0m: substring not found"
     ]
    }
   ],
   "source": [
    "nlp(text3)"
   ]
  }
 ],
 "metadata": {
  "kernelspec": {
   "display_name": "codebase",
   "language": "python",
   "name": "python3"
  },
  "language_info": {
   "codemirror_mode": {
    "name": "ipython",
    "version": 3
   },
   "file_extension": ".py",
   "mimetype": "text/x-python",
   "name": "python",
   "nbconvert_exporter": "python",
   "pygments_lexer": "ipython3",
   "version": "3.11.4"
  }
 },
 "nbformat": 4,
 "nbformat_minor": 2
}
