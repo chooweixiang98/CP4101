{
 "cells": [
  {
   "cell_type": "code",
   "execution_count": 91,
   "metadata": {},
   "outputs": [],
   "source": [
    "from pytube import YouTube\n",
    "from pydub import AudioSegment\n",
    "import librosa\n",
    "import soundfile as sf\n",
    "\n",
    "audio_wav_filename = 'GoogleImagen.wav'\n",
    "audio_wav_path = './audioWav/'+ audio_wav_filename\n",
    "\n",
    "audio_mp4_filename = 'GoogleImagen.mp4'\n",
    "audio_mp4_folder = './audio'\n",
    "audio_mp4_path = audio_mp4_folder + '/' + audio_mp4_filename\n",
    "\n",
    "video_link = 'https://www.youtube.com/watch?v=x7X9w_GIm1s'\n",
    "\n",
    "try:\n",
    "    yt = YouTube(video_link)\n",
    "    highest_resolution_stream = yt.streams.filter(file_extension='mp4').get_highest_resolution()\n",
    "    stream = yt.streams.get_by_itag(highest_resolution_stream.itag)\n",
    "except Exception as e:\n",
    "    print(f\"Error: {e}\")\n",
    "\n",
    "stream.download(audio_mp4_folder, audio_mp4_filename) # download video to mp4 format\n",
    "given_audio = AudioSegment.from_file(audio_mp4_path, format=\"mp4\")   "
   ]
  },
  {
   "cell_type": "code",
   "execution_count": 92,
   "metadata": {},
   "outputs": [],
   "source": [
    "given_audio.export(audio_wav_path, format=\"wav\")\n",
    "sp, rate = sf.read(audio_wav_path) # returns a NumPy array containing the audio data (sp) and the sample rate (rate) of the audio file.\n",
    "sp= librosa.resample(sp.T, orig_sr=rate, target_sr=16000)\n",
    "sf.write(audio_wav_path, sp.T, 16000, subtype='PCM_24')"
   ]
  },
  {
   "cell_type": "code",
   "execution_count": 93,
   "metadata": {},
   "outputs": [],
   "source": [
    "import torch\n",
    "from transformers import Wav2Vec2ForCTC, Wav2Vec2Tokenizer\n"
   ]
  },
  {
   "cell_type": "code",
   "execution_count": 94,
   "metadata": {},
   "outputs": [
    {
     "name": "stdout",
     "output_type": "stream",
     "text": [
      "16000\n"
     ]
    }
   ],
   "source": [
    "transcript = \"\"\n",
    "# Ensure that the sample rate is 16k\n",
    "print(librosa.get_samplerate(audio_wav_path))\n"
   ]
  },
  {
   "cell_type": "code",
   "execution_count": 95,
   "metadata": {},
   "outputs": [
    {
     "name": "stderr",
     "output_type": "stream",
     "text": [
      "The tokenizer class you load from this checkpoint is not the same type as the class this function is called from. It may result in unexpected tokenization. \n",
      "The tokenizer class you load from this checkpoint is 'Wav2Vec2CTCTokenizer'. \n",
      "The class this function is called from is 'Wav2Vec2Tokenizer'.\n",
      "/Users/weixiangchoo/Desktop/NUS/AY23-24_Sem_1/CP4101/codebase/lib/python3.11/site-packages/transformers/models/wav2vec2/tokenization_wav2vec2.py:733: FutureWarning: The class `Wav2Vec2Tokenizer` is deprecated and will be removed in version 5 of Transformers. Please use `Wav2Vec2Processor` or `Wav2Vec2CTCTokenizer` instead.\n",
      "  warnings.warn(\n",
      "Some weights of the model checkpoint at facebook/wav2vec2-large-960h were not used when initializing Wav2Vec2ForCTC: ['wav2vec2.encoder.pos_conv_embed.conv.weight_g', 'wav2vec2.encoder.pos_conv_embed.conv.weight_v']\n",
      "- This IS expected if you are initializing Wav2Vec2ForCTC from the checkpoint of a model trained on another task or with another architecture (e.g. initializing a BertForSequenceClassification model from a BertForPreTraining model).\n",
      "- This IS NOT expected if you are initializing Wav2Vec2ForCTC from the checkpoint of a model that you expect to be exactly identical (initializing a BertForSequenceClassification model from a BertForSequenceClassification model).\n",
      "Some weights of Wav2Vec2ForCTC were not initialized from the model checkpoint at facebook/wav2vec2-large-960h and are newly initialized: ['wav2vec2.encoder.pos_conv_embed.conv.parametrizations.weight.original0', 'wav2vec2.encoder.pos_conv_embed.conv.parametrizations.weight.original1', 'wav2vec2.masked_spec_embed']\n",
      "You should probably TRAIN this model on a down-stream task to be able to use it for predictions and inference.\n"
     ]
    },
    {
     "name": "stdout",
     "output_type": "stream",
     "text": [
      "PYTHON A HIGH LEVEL INTERPRETED PROGRAMMING LANGUAGE FAMOUS FOR ITS ZEN LIKE\n",
      "ODE IT'S ARGUABLY THE MOST POPULAR LANGUAGE IN THE WORLD BECAUSE IT'S EASY TO LEARN YET PRACTICAL\n",
      "L FOUR SERIOUS PROJECTS IN FACT YOU'RE WATCHING THIS UTU BITIO IN A PYTHON WEB APPLICAT\n",
      "ION WRITE NOW IT WAS CREATED BY QUIDO VAN ROSSUM AND RELEASED IN NINETEEN NINETY ONE WHO NAMED IT AFTER\n",
      "MONTY PYTHON'S FLYING CIRCUS WHICH IS WHY YE'LL SOMETIMES FIND SPAM AND EGGS INSTEAD OF FOO AND BO\n",
      "AR AND CODE SAMPLES IT'S COMMONLY USED TO BUILD SERVICIDE APPLICATIONS LIKE WEBAPS WITH THE J\n",
      "ANGO FRAMEWORK AND IS THE LANGUAGE OF CHOICE FOR BIG DATA ANALYSIS AND MACHINE LEARNING MANY STU\n",
      "NS CHOOSE PYTHON TO START LEARNING TO CODE BECAUSE OF ITS EMPHASIS ON READABILITY AS OUTLINED B\n",
      "Y THE ZENE OF PYTHON BEAUTIFUL IS BETTER THAN UGLY WHILE EXPLICIT IS BETTER THAN IMPLICIT\n",
      "PYTHON IS VERY SIMPLE BUT AVOIDS THE TEMPTATION TO SPRINKLE IN MAGIC THAT CAUSES AMBIGUITY\n",
      "ITS CODE IS OFTEN ORGANIZED INTO NOTEBOOKS WHERE INDIVIDUAL CELLS CAN BE EXECUTED THEN DOCK\n",
      "MENTED IN THE SAME PLACE WERE CURRENTLY ATVERSION THREE OF THE LANGUAGE AND YOU CAN GET STARTED BY CREATING A\n",
      "FILE THAT ENDS IN DOT P WY OR DOT I P WI N B TO CREATE AN INTERACTIVE NOTEBOOK CREAT\n",
      "VARIABLE BY SETTING A NAME EQUAL TO A VALUE IT'S STRONGLY TYPED WHICH MEANS VALUES WON'T CHANGE\n",
      "UNEXPECTED WAYS BUT DYNAMIC SO TYPE ANITATIONS ARE NOT REQUIRED THE SCYNTAX IS HIGHLY\n",
      "FICIENT ALLOWING YOU TO DECLARE MULTIPLE VARIABLES ON A SINGLE LINE AND DEFINE TWOPOLES LIST AND\n",
      "DICTIONARIES WITH A LITERAL CYNTAX SEMI COLENS ARE NOT REQUIRED AND IF YOU USE THEM AN EXPERIEN\n",
      "PYTHONYSTA WILL SAY THAT YOUR CODE IS NOT PYTHONIC INSTEAD OF SEMICOLANS PYTHON USES\n",
      "INDENTATION TO TERMINATE OR DETERMINE THE SCOPE OF A LINE OF CODE DEFINE A FUNCTION WITH THE DEAF\n",
      "KEYWARD THEN INDENT THE NEXT LINE USUALLY BY FOUR SPACES TO DEFINE THE FUNCTION BODY WE MIGHT\n",
      "HEN ADD A FORELOOP TO IT AND INDENT THAT BY ANOTHER FOUR SPACES THIS ELIMINATES THE NEED FOR CURLYBU\n",
      "ACES AND SEMICOLANS FOUND IN MANY OTHER LANGUAGES PYTHON IS A MULTI PARADIME LANGUAGE WE CAN\n",
      "PLY FUNCTIONAL PROGAMI PATTERNS WITH THINGS LIKE ANONYMOUS FUNCTIONS USING LAMDA IT ALSO USES OBJ\n",
      "EX AS AN ABSTRACTION FOR DATA ALLOWING YOU TO IMPLEMENT OBJECT ORIENTED PATTERNS WITH THINGS LIKE CLA\n",
      "ASSES AND INHERITANCE IT ALSO HAS A HUGE EGO SYSTEM OF THIRD PARTY LIBRARIES SUCH AS\n",
      "DEEP LEARNING FRAMEWORKS LIKE TENSERFLOW AND WRAPPERS FOR MANY HIGH PERFORMANCE LOW LEVEL PACKAGES LIKE\n",
      "OPEN COMPUTER VISION WHICH ARE MOST OFTEN INSTALLED WITH THE PIP PACKAGE MANAGER THIS HAS BEEN THE PO\n",
      "NGTH ON PROGRAMMING LANGUAGE IN ONE HUNDRED SECONDS HIT THE LIKE BUTTON IF YOU WANT TO SEE MORE SHORT VIDIALS LIKE THIS THANKS\n",
      "FOR WATCHING AND I WILL SEE YOU IN THE NEXT ONE\n"
     ]
    }
   ],
   "source": [
    "tokenizer = Wav2Vec2Tokenizer.from_pretrained(\"facebook/wav2vec2-large-960h\")\n",
    "model = Wav2Vec2ForCTC.from_pretrained(\"facebook/wav2vec2-large-960h\")\n",
    "\n",
    "# Stream over 30 seconds chunks rather than load the full file\n",
    "stream = librosa.stream(\n",
    "    audio_wav_path,\n",
    "    block_length=5,\n",
    "    frame_length=16000,\n",
    "    hop_length=16000\n",
    ")\n",
    "\n",
    "for speech in stream:\n",
    "    if len(speech.shape) > 1:\n",
    "        speech = speech[:, 0] + speech[:, 1]\n",
    "\n",
    "    input_values = tokenizer(speech, return_tensors=\"pt\").input_values\n",
    "    logits = model(input_values).logits\n",
    "\n",
    "    predicted_ids = torch.argmax(logits, dim=-1)\n",
    "    transcription = tokenizer.decode(predicted_ids[0])\n",
    "    print(transcription)\n"
   ]
  },
  {
   "cell_type": "code",
   "execution_count": 96,
   "metadata": {},
   "outputs": [
    {
     "name": "stderr",
     "output_type": "stream",
     "text": [
      "The tokenizer class you load from this checkpoint is not the same type as the class this function is called from. It may result in unexpected tokenization. \n",
      "The tokenizer class you load from this checkpoint is 'Wav2Vec2CTCTokenizer'. \n",
      "The class this function is called from is 'Wav2Vec2Tokenizer'.\n",
      "Some weights of the model checkpoint at facebook/wav2vec2-base-960h were not used when initializing Wav2Vec2ForCTC: ['wav2vec2.encoder.pos_conv_embed.conv.weight_g', 'wav2vec2.encoder.pos_conv_embed.conv.weight_v']\n",
      "- This IS expected if you are initializing Wav2Vec2ForCTC from the checkpoint of a model trained on another task or with another architecture (e.g. initializing a BertForSequenceClassification model from a BertForPreTraining model).\n",
      "- This IS NOT expected if you are initializing Wav2Vec2ForCTC from the checkpoint of a model that you expect to be exactly identical (initializing a BertForSequenceClassification model from a BertForSequenceClassification model).\n",
      "Some weights of Wav2Vec2ForCTC were not initialized from the model checkpoint at facebook/wav2vec2-base-960h and are newly initialized: ['wav2vec2.encoder.pos_conv_embed.conv.parametrizations.weight.original0', 'wav2vec2.encoder.pos_conv_embed.conv.parametrizations.weight.original1', 'wav2vec2.masked_spec_embed']\n",
      "You should probably TRAIN this model on a down-stream task to be able to use it for predictions and inference.\n"
     ]
    },
    {
     "name": "stdout",
     "output_type": "stream",
     "text": [
      "PYTHON A HIGH LEVEL INTERPRETED PROGRAMMING LANGUAGE FAMOUS FOR ITS ZEN LIKE\n",
      "ODE IT'S ARGUABLY THE MOST POPULAR LANGUAGE IN THE WORLD BECAUSE IT'S EASY TO LEARN YET PRACTICABL\n",
      "R FOUR SERIOUS PROJECTS IN FACT YOU ARE WATCHING THIS UTU VIDIO IN A PITHON WEB APPLICAT\n",
      "ION WRITE NOW IT WAS CREATED BY QUETO VAN ROSSAM AND RELEASED IN NINETEEN NINETY ONE WHO NAMED IT AFTER\n",
      "MONTY PYTHONS FLY IN CIRCUS WHICH IS WHYEYOU'LL SOMETIMES FINDS FAM AND EGGS INSTEAD OF FOO AND\n",
      "AR IN CODE SAMPLES IT'S COMMONLY USED TO BUILD SERVECIDE APPLICATIONS LIKE WEB APS WITH THE J\n",
      "ANGO FRAMEWORK AND IS THE LANGUAGE OF CHOICE FOR BIG DATA ANALYSIS AND MACHINE LEARNING MANY STU\n",
      "UNS CHOOSE PYTHONS WHO START LEARNING TO CODE BECAUSE OF ITS EMPHASIS ON READABILITY AS OUTLINED V\n",
      "THE ZENE OF PYTHON BEAUTIFUL IS BETTER THAN UGLY WHILE EXPLICIT IS BETTER THAN IMPLICIT\n",
      "PYTHON IS VERY SIMPLE BUT AVOIDS THE TEMPTATION TO SPRINKLE IN MAGIC THAT CAUSES AMBIGUITY\n",
      "ITS COAT IS OFTEN ORGANIZED INTO NOTE BOOKS WHERE INDIVIDUAL CELLS CAN BE EXECUTED THAN DOC\n",
      "EMENTED IN THE SAME PLACE WERE CURRENTLY AT VERSION THREE OF THE LANGUAGE AND YOU CAN GET STARTED BY CREATING A\n",
      "ILE THAT ENDS IN DOT P WY OR DOT I P WY N B TO CREATE AN INNERACTIVE NOTE BOOK CREAT\n",
      "VRIABLE BY SETTING A NAME EQUAL TO A VALUE IT STRONGLY TYPED WHICH MEANS VALUES WON'T CHANGE\n",
      "IN UNEXPECTED WAYS BUT DYNAMIC SO TYPE ANOTATIONS ARE NOT REQUIRED THE SYNTAX IS HIGHLY A\n",
      "FICIENT ALLOWING YOU TWO DECLARE MULTIPLE VARIABLES ON A SINGLE LINE AND TO FIND TWOPOLES LIST AND\n",
      "DICTIONARIES WITH A LITERAL SYNTAX SEMI CULLUNS ARE NOT REQUIRED AND IF YOU USE THEM AN EXPERIE\n",
      "S PYTHANISTA WILL SAY THAT YOUR CODE IS NOT PITHONIC INSTEAD OF SEMICOLANS PYTHON USES\n",
      "INDENTATION TO TERMINATE OR DETERMINE THE SCOPE OF A LINE OF COAT DEFINE A FUNCTION WITH THE DEFT\n",
      "KEYWORD THEN INDENT THE NEXT LINE USUALLY BY FOUR SPACES TO DEFINE THE FUNCTION BODY WE MIGHT\n",
      "HEN ADD A FOUR LOOP TO IT AND INDENT THAT BY ANOTHER FOUR SPACES THIS ELIMINATES THE NEED FOR CURLY\n",
      "ACES AND SEMI CONS FOUND IN MANY OTHER LANGUAGES PYTHON IS A MOLTY PARODIME LANGUAGE WE CAN\n",
      "PLY FUNCTIONAL PROGAMING PATTERNS WITH THINGS LIKE ANONYMOUS FUNCTIONS USING LAMBDA IT ALSO USES OBJ\n",
      "X AS AN ABSTRACTION FOR DATA ALLOWING YOU TO IMPLEMENT OBJECT ORIENTED PATTERNS WITH THINGS LIKE CLA\n",
      "ASSES AND INHERITANCE IT ALSO HAS A HUGE EGO SYSTEM OF THIRD PARTY LIBRARIES SUCH AS\n",
      "DEEP LEARNING FRAMEWORKS LIKE TENCORFLOW AND WRAPPERS FOR MANY HIGH PERFORMANCE LOW LEVEL PACKAGES LIKE\n",
      "OPEN COMPUTER VISION WHICH ARE MOST OFTEN INSTALLED WITH THE PIP PACKAGE MANAGER THIS HAS BEEN THE P\n",
      "ITHON PROGRAMMING LANGUAGE IN ONE HUNDRED SECONDS IT'S A LIKE BUTTON IF YOU WANT TO SEE MORE SHORT PIDIOS LIKE THIS THANKS\n",
      "FOR WATCHING AND I WILL SEE YOU IN THE NEXT ONE\n"
     ]
    }
   ],
   "source": [
    "tokenizer = Wav2Vec2Tokenizer.from_pretrained(\"facebook/wav2vec2-base-960h\")\n",
    "model = Wav2Vec2ForCTC.from_pretrained(\"facebook/wav2vec2-base-960h\")\n",
    "\n",
    "# Stream over 30 seconds chunks rather than load the full file\n",
    "stream = librosa.stream(\n",
    "    audio_wav_path,\n",
    "    block_length=5,\n",
    "    frame_length=16000,\n",
    "    hop_length=16000\n",
    ")\n",
    "\n",
    "for speech in stream:\n",
    "    if len(speech.shape) > 1:\n",
    "        speech = speech[:, 0] + speech[:, 1]\n",
    "\n",
    "    input_values = tokenizer(speech, return_tensors=\"pt\").input_values\n",
    "    logits = model(input_values).logits\n",
    "\n",
    "    predicted_ids = torch.argmax(logits, dim=-1)\n",
    "    transcription = tokenizer.decode(predicted_ids[0])\n",
    "    print(transcription)"
   ]
  },
  {
   "cell_type": "code",
   "execution_count": 97,
   "metadata": {},
   "outputs": [
    {
     "name": "stderr",
     "output_type": "stream",
     "text": [
      "The tokenizer class you load from this checkpoint is not the same type as the class this function is called from. It may result in unexpected tokenization. \n",
      "The tokenizer class you load from this checkpoint is 'Wav2Vec2CTCTokenizer'. \n",
      "The class this function is called from is 'Wav2Vec2Tokenizer'.\n",
      "Some weights of the model checkpoint at jonatasgrosman/wav2vec2-large-xlsr-53-english were not used when initializing Wav2Vec2ForCTC: ['wav2vec2.encoder.pos_conv_embed.conv.weight_g', 'wav2vec2.encoder.pos_conv_embed.conv.weight_v']\n",
      "- This IS expected if you are initializing Wav2Vec2ForCTC from the checkpoint of a model trained on another task or with another architecture (e.g. initializing a BertForSequenceClassification model from a BertForPreTraining model).\n",
      "- This IS NOT expected if you are initializing Wav2Vec2ForCTC from the checkpoint of a model that you expect to be exactly identical (initializing a BertForSequenceClassification model from a BertForSequenceClassification model).\n",
      "Some weights of Wav2Vec2ForCTC were not initialized from the model checkpoint at jonatasgrosman/wav2vec2-large-xlsr-53-english and are newly initialized: ['wav2vec2.encoder.pos_conv_embed.conv.parametrizations.weight.original0', 'wav2vec2.encoder.pos_conv_embed.conv.parametrizations.weight.original1']\n",
      "You should probably TRAIN this model on a down-stream task to be able to use it for predictions and inference.\n"
     ]
    }
   ],
   "source": [
    "tokenizer = Wav2Vec2Tokenizer.from_pretrained(\"jonatasgrosman/wav2vec2-large-xlsr-53-english\")\n",
    "model = Wav2Vec2ForCTC.from_pretrained(\"jonatasgrosman/wav2vec2-large-xlsr-53-english\")\n"
   ]
  },
  {
   "cell_type": "code",
   "execution_count": 98,
   "metadata": {},
   "outputs": [
    {
     "name": "stdout",
     "output_type": "stream",
     "text": [
      "python a high level interpreted programming language famous for its zen lit co\n",
      "it's arguably the most popular language in the world because it's easy to learn yet practical\n",
      "l for serious projects in fact you're watching this youtube video in a python web applicaton\n",
      "it was created by queto van rossum and released in nineteen ninty one who named it after\n",
      "montypythons lyng circus which is lesometimes fine span in eggs instead of food and bal\n",
      "rin code samples it's commonly used to build surverside applicions like webaps w\n",
      "ango framework and is the language of choice for big data analysis and machine learnintue\n",
      "s choose python to slearningtocode because of its emphasis on readability as outlined\n",
      "y dezen of pytont beautiful is better than ugly while explicit is better than implicit\n",
      "python is very simple but avoids the temptation to sprinkle in magic that causes ambiguity\n",
      "its code is often organized into notbooks where individual cells can be excuted then dock\n",
      "imented in the same place whe're currently at version three of the language and you can get started by creating ap\n",
      "fl that ends in por ipmb to create an interactive notebook\n",
      "variable by setting a name equal to value it's strongly type which means values won't change\n",
      "in unexpected ways but dynamic so tpanotations are not required the syntax is highl\n",
      "ficient allowing you to declare multiple variables on a single line and efined tupls list n\n",
      "dictionaries with a literal syntax semycollins are not required and if you use them inexperiene\n",
      "pythanista will say that your code is not pythonic instead of semicolins plython uses\n",
      "indentation to terminate or determine the scope of a line-of code define a function withdept\n",
      "keyword then indent the nextline usually by four spaces to define the function boy\n",
      "then add a for lup to it and indentap by another four spaces this eliminates tneed for curly ber\n",
      "as and semicolins found in many other languages python is a multiparme languagew\n",
      "ply functional programming patterns with things like anonymous functions using lamda it also uses obje\n",
      "ex as an abstraction for data allowing you to implement object oriented patterns with things like clas\n",
      "osis and inheritance it also has a huge egosystem of third-party libraries such as\n",
      "deep learning frameworks like tensor flow lpers formany higherformance low-level packages\n",
      "open computer vision which were most often installed with the pip package managerthis has been the\n",
      "athon programming language in one hundred seconds itsth like butten if you wanto see more short videos like\n",
      "for watching and i will see you in the next one\n"
     ]
    }
   ],
   "source": [
    "# Stream over 30 seconds chunks rather than load the full file\n",
    "stream = librosa.stream(\n",
    "    audio_wav_path,\n",
    "    block_length=5,\n",
    "    frame_length=16000,\n",
    "    hop_length=16000\n",
    ")\n",
    "\n",
    "for speech in stream:\n",
    "    if len(speech.shape) > 1:\n",
    "        speech = speech[:, 0] + speech[:, 1]\n",
    "\n",
    "    input_values = tokenizer(speech, return_tensors=\"pt\").input_values\n",
    "    logits = model(input_values).logits\n",
    "\n",
    "    predicted_ids = torch.argmax(logits, dim=-1)\n",
    "    transcription = tokenizer.decode(predicted_ids[0])\n",
    "    print(transcription)"
   ]
  },
  {
   "cell_type": "code",
   "execution_count": 99,
   "metadata": {},
   "outputs": [
    {
     "name": "stdout",
     "output_type": "stream",
     "text": [
      "53485.54s - pydevd: Sending message related to process being replaced timed-out after 5 seconds\n",
      "Collecting git+https://github.com/openai/whisper.git\n",
      "  Cloning https://github.com/openai/whisper.git to /private/var/folders/r1/4m2pg4950hx06h6tm8jptvfw0000gn/T/pip-req-build-zx4x62aq\n",
      "  Running command git clone --filter=blob:none --quiet https://github.com/openai/whisper.git /private/var/folders/r1/4m2pg4950hx06h6tm8jptvfw0000gn/T/pip-req-build-zx4x62aq\n",
      "  Resolved https://github.com/openai/whisper.git to commit ba3f3cd54b0e5b8ce1ab3de13e32122d0d5f98ab\n",
      "  Installing build dependencies ... \u001b[?25ldone\n",
      "\u001b[?25h  Getting requirements to build wheel ... \u001b[?25ldone\n",
      "\u001b[?25h  Installing backend dependencies ... \u001b[?25ldone\n",
      "\u001b[?25h  Preparing metadata (pyproject.toml) ... \u001b[?25ldone\n",
      "\u001b[?25hRequirement already satisfied: numba in /Users/weixiangchoo/Desktop/NUS/AY23-24_Sem_1/CP4101/codebase/lib/python3.11/site-packages (from openai-whisper==20231117) (0.59.0)\n",
      "Requirement already satisfied: numpy in /Users/weixiangchoo/Desktop/NUS/AY23-24_Sem_1/CP4101/codebase/lib/python3.11/site-packages (from openai-whisper==20231117) (1.26.3)\n",
      "Requirement already satisfied: torch in /Users/weixiangchoo/Desktop/NUS/AY23-24_Sem_1/CP4101/codebase/lib/python3.11/site-packages (from openai-whisper==20231117) (2.2.0)\n",
      "Requirement already satisfied: tqdm in /Users/weixiangchoo/Desktop/NUS/AY23-24_Sem_1/CP4101/codebase/lib/python3.11/site-packages (from openai-whisper==20231117) (4.66.1)\n",
      "Requirement already satisfied: more-itertools in /Users/weixiangchoo/Desktop/NUS/AY23-24_Sem_1/CP4101/codebase/lib/python3.11/site-packages (from openai-whisper==20231117) (10.2.0)\n",
      "Requirement already satisfied: tiktoken in /Users/weixiangchoo/Desktop/NUS/AY23-24_Sem_1/CP4101/codebase/lib/python3.11/site-packages (from openai-whisper==20231117) (0.5.2)\n",
      "Requirement already satisfied: llvmlite<0.43,>=0.42.0dev0 in /Users/weixiangchoo/Desktop/NUS/AY23-24_Sem_1/CP4101/codebase/lib/python3.11/site-packages (from numba->openai-whisper==20231117) (0.42.0)\n",
      "Requirement already satisfied: regex>=2022.1.18 in /Users/weixiangchoo/Desktop/NUS/AY23-24_Sem_1/CP4101/codebase/lib/python3.11/site-packages (from tiktoken->openai-whisper==20231117) (2023.12.25)\n",
      "Requirement already satisfied: requests>=2.26.0 in /Users/weixiangchoo/Desktop/NUS/AY23-24_Sem_1/CP4101/codebase/lib/python3.11/site-packages (from tiktoken->openai-whisper==20231117) (2.31.0)\n",
      "Requirement already satisfied: filelock in /Users/weixiangchoo/Desktop/NUS/AY23-24_Sem_1/CP4101/codebase/lib/python3.11/site-packages (from torch->openai-whisper==20231117) (3.13.1)\n",
      "Requirement already satisfied: typing-extensions>=4.8.0 in /Users/weixiangchoo/Desktop/NUS/AY23-24_Sem_1/CP4101/codebase/lib/python3.11/site-packages (from torch->openai-whisper==20231117) (4.9.0)\n",
      "Requirement already satisfied: sympy in /Users/weixiangchoo/Desktop/NUS/AY23-24_Sem_1/CP4101/codebase/lib/python3.11/site-packages (from torch->openai-whisper==20231117) (1.12)\n",
      "Requirement already satisfied: networkx in /Users/weixiangchoo/Desktop/NUS/AY23-24_Sem_1/CP4101/codebase/lib/python3.11/site-packages (from torch->openai-whisper==20231117) (3.2.1)\n",
      "Requirement already satisfied: jinja2 in /Users/weixiangchoo/Desktop/NUS/AY23-24_Sem_1/CP4101/codebase/lib/python3.11/site-packages (from torch->openai-whisper==20231117) (3.1.3)\n",
      "Requirement already satisfied: fsspec in /Users/weixiangchoo/Desktop/NUS/AY23-24_Sem_1/CP4101/codebase/lib/python3.11/site-packages (from torch->openai-whisper==20231117) (2023.12.2)\n",
      "Requirement already satisfied: charset-normalizer<4,>=2 in /Users/weixiangchoo/Desktop/NUS/AY23-24_Sem_1/CP4101/codebase/lib/python3.11/site-packages (from requests>=2.26.0->tiktoken->openai-whisper==20231117) (3.3.2)\n",
      "Requirement already satisfied: idna<4,>=2.5 in /Users/weixiangchoo/Desktop/NUS/AY23-24_Sem_1/CP4101/codebase/lib/python3.11/site-packages (from requests>=2.26.0->tiktoken->openai-whisper==20231117) (3.6)\n",
      "Requirement already satisfied: urllib3<3,>=1.21.1 in /Users/weixiangchoo/Desktop/NUS/AY23-24_Sem_1/CP4101/codebase/lib/python3.11/site-packages (from requests>=2.26.0->tiktoken->openai-whisper==20231117) (2.2.0)\n",
      "Requirement already satisfied: certifi>=2017.4.17 in /Users/weixiangchoo/Desktop/NUS/AY23-24_Sem_1/CP4101/codebase/lib/python3.11/site-packages (from requests>=2.26.0->tiktoken->openai-whisper==20231117) (2024.2.2)\n",
      "Requirement already satisfied: MarkupSafe>=2.0 in /Users/weixiangchoo/Desktop/NUS/AY23-24_Sem_1/CP4101/codebase/lib/python3.11/site-packages (from jinja2->torch->openai-whisper==20231117) (2.1.5)\n",
      "Requirement already satisfied: mpmath>=0.19 in /Users/weixiangchoo/Desktop/NUS/AY23-24_Sem_1/CP4101/codebase/lib/python3.11/site-packages (from sympy->torch->openai-whisper==20231117) (1.3.0)\n",
      "53498.29s - pydevd: Sending message related to process being replaced timed-out after 5 seconds\n",
      "Requirement already satisfied: jiwer in /Users/weixiangchoo/Desktop/NUS/AY23-24_Sem_1/CP4101/codebase/lib/python3.11/site-packages (3.0.3)\n",
      "Requirement already satisfied: click<9.0.0,>=8.1.3 in /Users/weixiangchoo/Desktop/NUS/AY23-24_Sem_1/CP4101/codebase/lib/python3.11/site-packages (from jiwer) (8.1.7)\n",
      "Requirement already satisfied: rapidfuzz<4,>=3 in /Users/weixiangchoo/Desktop/NUS/AY23-24_Sem_1/CP4101/codebase/lib/python3.11/site-packages (from jiwer) (3.6.1)\n"
     ]
    }
   ],
   "source": [
    "! pip install git+https://github.com/openai/whisper.git\n",
    "! pip install jiwer"
   ]
  },
  {
   "cell_type": "code",
   "execution_count": 101,
   "metadata": {},
   "outputs": [
    {
     "name": "stderr",
     "output_type": "stream",
     "text": [
      "/Users/weixiangchoo/Desktop/NUS/AY23-24_Sem_1/CP4101/codebase/lib/python3.11/site-packages/whisper/transcribe.py:126: UserWarning: FP16 is not supported on CPU; using FP32 instead\n",
      "  warnings.warn(\"FP16 is not supported on CPU; using FP32 instead\")\n"
     ]
    },
    {
     "name": "stdout",
     "output_type": "stream",
     "text": [
      " Python, a high-level, interpreted programming language famous for its zen-like code. It's arguably the most popular language in the world because it's easy to learn, yet practical for serious projects. In fact, you're watching this YouTube video in a Python web application right now. It was created by Kwiidovan Rossum and released in 1991, who named it after Monty Python's blind circus, which is why you'll sometimes find spam and eggs instead of food and bar in code samples. It's commonly used to build server-side applications, like web apps with the Django framework, and is the language of choice for big data analysis and machine learning. Many students choose Python to start learning to code because of its emphasis on readability as outlined by the zen of Python. Beautiful is better than ugly, while explicit is better than implicit. Python is very simple, but avoids the temptation to sprinkle in magic that causes ambiguity. Its code is often organized into notebooks, where individual cells can be executed, then documented in the same place. We're currently at version 3 of the language, and you can get started by creating a file that ends in .py, or .ipynb to create an interactive notebook. Create a variable by setting a name equal to a value. It's strongly typed, which means values won't change in unexpected ways, but dynamic, so type annotations are not required. The syntax is highly efficient, allowing you to declare multiple variables on a single line and define two pulls, lists, and dictionaries with a literal syntax. Semicolins are not required, and if you use them and experience Pythonista, we'll say that your code is not Pythonic. Instead of Semicolins, Python uses indentation to terminate or determine the scope of a line of code. Define a function with a def keyword, then indent the next line, usually by four spaces, to define the function body. We might then add a for loop to it, and indent that by another four spaces. This eliminates the need for curly braces and Semicolins found in many other languages. Python is a multi-paradigm language. We can apply functional programming patterns with things like anonymous functions using Lambda. It also uses objects as an abstraction for data, allowing you to implement object-oriented patterns, with things like classes and inheritance. It also has a huge ecosystem of third-party libraries, such as deep learning frameworks like TensorFlow, and wrappers for many high-performance low-level packages like Open Computer Vision, which are most often installed with the PIP package manager. This has been the Python programming language in 100 seconds. Hit the like button if you want to see more short videos like this. Thanks for watching, and I will see you in the next one.\n"
     ]
    }
   ],
   "source": [
    "import whisper\n",
    "\n",
    "model = whisper.load_model(\"base\")\n",
    "result = model.transcribe(\"audio/\" + audio_mp4_filename)\n",
    "print(result['text'])"
   ]
  },
  {
   "cell_type": "code",
   "execution_count": 107,
   "metadata": {},
   "outputs": [
    {
     "name": "stderr",
     "output_type": "stream",
     "text": [
      "Your min_length=250 must be inferior than your max_length=142.\n",
      "/Users/weixiangchoo/Desktop/NUS/AY23-24_Sem_1/CP4101/codebase/lib/python3.11/site-packages/transformers/generation/utils.py:1158: UserWarning: Unfeasible length constraints: `min_length` (250) is larger than the maximum possible length (142). Generation will stop at the defined maximum length. You should decrease the minimum length and/or increase the maximum length. Note that `max_length` is set to 142, its default value.\n",
      "  warnings.warn(\n"
     ]
    },
    {
     "name": "stdout",
     "output_type": "stream",
     "text": [
      "Python is a high-level, interpreted programming language famous for its zen-like code. It's commonly used to build server-side applications, like web apps with the Django framework. Many students choose Python to start learning to code because of its emphasis on readability. Python is a multi-paradigm language. We can apply functional programming patterns with things like anonymous functions using Lambda. It also has a huge ecosystem of third-party libraries, such as deep learning frameworks like TensorFlow, and wrappers for many high-performance low-level packages like Open Computer Vision. This has been the Python programming language in 100 seconds. Hit the like button if you want to see\n"
     ]
    }
   ],
   "source": [
    "# Abstractive summarization\n",
    "\n",
    "from transformers import pipeline\n",
    "\n",
    "# Load the summarization pipeline\n",
    "summarizer = pipeline(\"summarization\", model=\"facebook/bart-large-cnn\")\n",
    "\n",
    "text = result['text']\n",
    "summary = summarizer(text, min_length=250, do_sample=False)\n",
    "\n",
    "print(summary[0]['summary_text'])"
   ]
  },
  {
   "cell_type": "code",
   "execution_count": 104,
   "metadata": {},
   "outputs": [
    {
     "name": "stderr",
     "output_type": "stream",
     "text": [
      "config.json: 100%|██████████| 571/571 [00:00<00:00, 1.73MB/s]\n",
      "model.safetensors: 100%|██████████| 1.34G/1.34G [02:09<00:00, 10.3MB/s]\n",
      "tokenizer_config.json: 100%|██████████| 28.0/28.0 [00:00<00:00, 34.7kB/s]\n",
      "vocab.txt: 100%|██████████| 232k/232k [00:00<00:00, 410kB/s]\n",
      "tokenizer.json: 100%|██████████| 466k/466k [00:00<00:00, 691kB/s]\n",
      "huggingface/tokenizers: The current process just got forked, after parallelism has already been used. Disabling parallelism to avoid deadlocks...\n",
      "To disable this warning, you can either:\n",
      "\t- Avoid using `tokenizers` before the fork if possible\n",
      "\t- Explicitly set the environment variable TOKENIZERS_PARALLELISM=(true | false)\n"
     ]
    },
    {
     "name": "stdout",
     "output_type": "stream",
     "text": [
      "Python, a high-level, interpreted programming language famous for its zen-like code. Many students choose Python to start learning to code because of its emphasis on readability as outlined by the zen of Python. Its code is often organized into notebooks, where individual cells can be executed, then documented in the same place. We might then add a for loop to it, and indent that by another four spaces. This has been the Python programming language in 100 seconds.\n"
     ]
    }
   ],
   "source": [
    "# Extractive Summarization\n",
    "from summarizer import Summarizer\n",
    "\n",
    "model = Summarizer()\n",
    "\n",
    "text = result['text']\n",
    "summary = model(text, min_length=60)\n",
    "\n",
    "print(summary)"
   ]
  }
 ],
 "metadata": {
  "kernelspec": {
   "display_name": "codebase",
   "language": "python",
   "name": "python3"
  },
  "language_info": {
   "codemirror_mode": {
    "name": "ipython",
    "version": 3
   },
   "file_extension": ".py",
   "mimetype": "text/x-python",
   "name": "python",
   "nbconvert_exporter": "python",
   "pygments_lexer": "ipython3",
   "version": "3.11.4"
  }
 },
 "nbformat": 4,
 "nbformat_minor": 2
}
